{
 "cells": [
  {
   "cell_type": "code",
   "execution_count": 66,
   "metadata": {},
   "outputs": [],
   "source": [
    "from pandas import DataFrame\n",
    "import numpy as np\n",
    "from os import listdir, path"
   ]
  },
  {
   "cell_type": "code",
   "execution_count": 52,
   "metadata": {},
   "outputs": [],
   "source": [
    "def collect_matches(directory) -> DataFrame:\n",
    "#     data = DataFrame(columns=[\"season\", \"week\", \"logs\"])\n",
    "    data = []\n",
    "    filenames = listdir(directory)\n",
    "    for filename in filenames:\n",
    "        current_season = None\n",
    "        current_week = None\n",
    "        playoff = False\n",
    "        if \"checkpoints\" in filename:\n",
    "            continue\n",
    "        with open(f\"{directory}/{filename}\") as f:\n",
    "            for line in f:\n",
    "                if \"finals\" in line.lower() or \"playoff\" in line.lower():\n",
    "                    playoff=True\n",
    "                if \"Season\" in line:\n",
    "                    current_season = handle_season_line(line)\n",
    "                    print(f\"Season: {current_season}\")\n",
    "                elif \"Week\" in line:\n",
    "                    current_week = handle_week_line(line)\n",
    "                    print(f\"Week: {current_week}\")\n",
    "                elif \"logs.tf\" in line:\n",
    "                    data.append(handle_log_line(line, current_season, current_week, playoff))\n",
    "    return DataFrame(data)"
   ]
  },
  {
   "cell_type": "code",
   "execution_count": 6,
   "metadata": {},
   "outputs": [],
   "source": [
    "def handle_season_line(line):\n",
    "    return int(line[-2])"
   ]
  },
  {
   "cell_type": "code",
   "execution_count": 7,
   "metadata": {},
   "outputs": [],
   "source": [
    "def handle_week_line(line):\n",
    "    import re\n",
    "    regex = r\"Week (\\d+)\"\n",
    "    return int(re.match(regex, line).group(1))"
   ]
  },
  {
   "cell_type": "code",
   "execution_count": 54,
   "metadata": {},
   "outputs": [],
   "source": [
    "def handle_log_line(line, current_season, current_week, playoff):\n",
    "    import re\n",
    "    regex = r\"logs.tf\\/(\\d+)\"\n",
    "    logs = re.findall(regex, line)[0]\n",
    "    # print(logs[0])\n",
    "    row = {\"season\": current_season, \"week\": current_week, \"playoff\": playoff, \"logs\": int(logs)}\n",
    "    return row"
   ]
  },
  {
   "cell_type": "code",
   "execution_count": 55,
   "metadata": {},
   "outputs": [
    {
     "output_type": "stream",
     "name": "stdout",
     "text": [
      "Season: 1\nWeek: 1\nWeek: 2\nWeek: 3\nWeek: 4\nWeek: 5\nWeek: 6\nWeek: 7\nWeek: 8\nWeek: 9\nWeek: 10\nWeek: 11\nWeek: 12\nWeek: 13\nSeason: 2\nWeek: 1\nWeek: 2\nWeek: 3\nWeek: 3\nWeek: 4\nWeek: 5\nWeek: 6\nWeek: 7\nWeek: 8\nWeek: 9\nWeek: 10\nWeek: 11\nSeason: 3\nWeek: 1\nWeek: 2\nWeek: 3\nWeek: 4\nWeek: 5\nWeek: 6\nWeek: 7\nWeek: 8\nWeek: 9\nWeek: 10\nWeek: 11\nSeason: 4\nWeek: 1\nWeek: 2\nWeek: 3\nWeek: 4\nWeek: 5\nWeek: 6\nWeek: 7\nWeek: 8\nWeek: 9\nWeek: 10\nWeek: 11\nSeason: 5\nWeek: 1\nWeek: 2\nWeek: 3\nWeek: 4\nWeek: 5\nWeek: 6\nWeek: 7\nWeek: 8\nWeek: 9\nWeek: 10\nWeek: 11\nSeason: 6\nWeek: 1\nWeek: 2\nWeek: 3\nWeek: 4\nWeek: 5\nWeek: 6\nWeek: 7\nWeek: 8\nWeek: 9\nWeek: 10\nWeek: 11\nSeason: 7\nWeek: 1\nWeek: 2\nWeek: 3\nWeek: 4\nWeek: 5\nWeek: 6\nWeek: 7\nWeek: 8\nWeek: 9\nWeek: 10\nWeek: 11\n"
     ]
    }
   ],
   "source": [
    "data = collect_matches(\"match_directory\")"
   ]
  },
  {
   "cell_type": "code",
   "execution_count": 56,
   "metadata": {},
   "outputs": [
    {
     "output_type": "execute_result",
     "data": {
      "text/plain": [
       "     season  week  playoff     logs\n",
       "0         1     1    False  2114329\n",
       "1         1     1    False  2114363\n",
       "2         1     2    False  2119224\n",
       "3         1     2    False  2119171\n",
       "4         1     3    False  2132589\n",
       "..      ...   ...      ...      ...\n",
       "238       7    10     True  2766220\n",
       "239       7    10     True  2766233\n",
       "240       7    11     True  2772525\n",
       "241       7    11     True  2772607\n",
       "242       7    11     True  2772615\n",
       "\n",
       "[243 rows x 4 columns]"
      ],
      "text/html": "<div>\n<style scoped>\n    .dataframe tbody tr th:only-of-type {\n        vertical-align: middle;\n    }\n\n    .dataframe tbody tr th {\n        vertical-align: top;\n    }\n\n    .dataframe thead th {\n        text-align: right;\n    }\n</style>\n<table border=\"1\" class=\"dataframe\">\n  <thead>\n    <tr style=\"text-align: right;\">\n      <th></th>\n      <th>season</th>\n      <th>week</th>\n      <th>playoff</th>\n      <th>logs</th>\n    </tr>\n  </thead>\n  <tbody>\n    <tr>\n      <th>0</th>\n      <td>1</td>\n      <td>1</td>\n      <td>False</td>\n      <td>2114329</td>\n    </tr>\n    <tr>\n      <th>1</th>\n      <td>1</td>\n      <td>1</td>\n      <td>False</td>\n      <td>2114363</td>\n    </tr>\n    <tr>\n      <th>2</th>\n      <td>1</td>\n      <td>2</td>\n      <td>False</td>\n      <td>2119224</td>\n    </tr>\n    <tr>\n      <th>3</th>\n      <td>1</td>\n      <td>2</td>\n      <td>False</td>\n      <td>2119171</td>\n    </tr>\n    <tr>\n      <th>4</th>\n      <td>1</td>\n      <td>3</td>\n      <td>False</td>\n      <td>2132589</td>\n    </tr>\n    <tr>\n      <th>...</th>\n      <td>...</td>\n      <td>...</td>\n      <td>...</td>\n      <td>...</td>\n    </tr>\n    <tr>\n      <th>238</th>\n      <td>7</td>\n      <td>10</td>\n      <td>True</td>\n      <td>2766220</td>\n    </tr>\n    <tr>\n      <th>239</th>\n      <td>7</td>\n      <td>10</td>\n      <td>True</td>\n      <td>2766233</td>\n    </tr>\n    <tr>\n      <th>240</th>\n      <td>7</td>\n      <td>11</td>\n      <td>True</td>\n      <td>2772525</td>\n    </tr>\n    <tr>\n      <th>241</th>\n      <td>7</td>\n      <td>11</td>\n      <td>True</td>\n      <td>2772607</td>\n    </tr>\n    <tr>\n      <th>242</th>\n      <td>7</td>\n      <td>11</td>\n      <td>True</td>\n      <td>2772615</td>\n    </tr>\n  </tbody>\n</table>\n<p>243 rows × 4 columns</p>\n</div>"
     },
     "metadata": {},
     "execution_count": 56
    }
   ],
   "source": [
    "data"
   ]
  },
  {
   "cell_type": "code",
   "execution_count": 58,
   "metadata": {
    "tags": []
   },
   "outputs": [
    {
     "output_type": "stream",
     "name": "stdout",
     "text": [
      "2114329\n2114363\n2119224\n2119171\n2132589\n2124266\n2129115\n2129154\n2134026\n2143349\n2143357\n2148033\n2161872\n2161902\n2166216\n2166259\n2170579\n2170607\n2196452\n2199638\n2196447\n2201141\n2201199\n2201206\n2206291\n2206300\n2206338\n2206366\n2211573\n2211584\n2211607\n2216628\n2216631\n2216539\n2221668\n2226669\n2226723\n2231599\n2231643\n2231610\n2231663\n2236718\n2236786\n2236817\n2206338\n2236754\n2240146\n2240251\n2240252\n2241782\n2241783\n2241784\n2297159\n2297230\n2297219\n2297152\n2302545\n2302580\n2302586\n2302603\n2307811\n2308091\n2307903\n2307936\n2313372\n2313248\n2313306\n2318646\n2318650\n2318632\n2318572\n2323709\n2323685\n2323632\n2329127\n2328937\n2329038\n2334321\n2334476\n2334477\n2334283\n2334354\n2339290\n2339332\n2339287\n2339347\n2344265\n2344326\n2349951\n2349975\n2387983\n2388033\n2388013\n2388030\n2392592\n2392612\n2392600\n2393775\n2392625\n2397642\n2397627\n2397645\n2398148\n2402585\n2402594\n2402586\n2407485\n2407484\n2407507\n2407439\n2412022\n2412031\n2411984\n2412010\n2416376\n2416853\n2416420\n2416417\n2420874\n2420952\n2420876\n2420912\n2425252\n2425264\n2425313\n2425336\n2425314\n2429504\n2429546\n2433108\n2433144\n2469306\n2469317\n2469291\n2469316\n2474102\n2474112\n2474077\n2474104\n2479585\n2479570\n2479614\n2479551\n2490050\n2484733\n2484703\n2484752\n2490034\n2489839\n2489850\n2495425\n2495448\n2495444\n2495453\n2501965\n2502020\n2502052\n2501957\n2508870\n2508963\n2508919\n2508934\n2516247\n2516263\n2516159\n2516219\n2524795\n2524843\n2530788\n2530820\n2589407\n2589302\n2589331\n2589184\n2597840\n2597683\n2597634\n2597672\n2606038\n2606040\n2606053\n2613924\n2614079\n2614136\n2622648\n2622573\n2628836\n2630607\n2630569\n2630623\n2638614\n2638512\n2638578\n2645812\n2645935\n2645803\n2645951\n2653145\n2653162\n2653137\n2653164\n2659899\n2659927\n2666644\n2666692\n2666743\n2701293\n2701176\n2701199\n2701227\n2707694\n2707647\n2707648\n2707660\n2714592\n2714640\n2714525\n2721809\n2721845\n2721859\n2729315\n2729393\n2729281\n2736447\n2736432\n2736409\n2745847\n2745918\n2745960\n2752896\n2753082\n2752886\n2753038\n2759691\n2759835\n2759909\n2759763\n2759779\n2766220\n2766233\n2772525\n2772607\n2772615\n"
     ]
    }
   ],
   "source": [
    "for _, row in data.iterrows():\n",
    "    print(row.logs)\n",
    "    "
   ]
  },
  {
   "cell_type": "code",
   "execution_count": 64,
   "metadata": {},
   "outputs": [],
   "source": [
    "def log_exists(log_data):\n",
    "    pass"
   ]
  },
  {
   "cell_type": "code",
   "execution_count": 65,
   "metadata": {},
   "outputs": [
    {
     "output_type": "stream",
     "name": "stdout",
     "text": [
      "1_1_0_2114329\n1_1_0_2114363\n1_2_0_2119224\n1_2_0_2119171\n1_3_0_2132589\n1_3_0_2124266\n1_4_0_2129115\n1_4_0_2129154\n1_5_0_2134026\n1_7_0_2143349\n1_7_0_2143357\n1_8_0_2148033\n1_11_1_2161872\n1_11_1_2161902\n1_12_1_2166216\n1_12_1_2166259\n1_13_1_2170579\n1_13_1_2170607\n2_1_0_2196452\n2_1_0_2199638\n2_1_0_2196447\n2_2_0_2201141\n2_2_0_2201199\n2_2_0_2201206\n2_3_0_2206291\n2_3_0_2206300\n2_3_0_2206338\n2_3_0_2206366\n2_4_0_2211573\n2_4_0_2211584\n2_4_0_2211607\n2_5_0_2216628\n2_5_0_2216631\n2_5_0_2216539\n2_6_1_2221668\n2_7_1_2226669\n2_7_1_2226723\n2_8_1_2231599\n2_8_1_2231643\n2_8_1_2231610\n2_8_1_2231663\n2_9_1_2236718\n2_9_1_2236786\n2_9_1_2236817\n2_9_1_2206338\n2_9_1_2236754\n2_10_1_2240146\n2_10_1_2240251\n2_10_1_2240252\n2_11_1_2241782\n2_11_1_2241783\n2_11_1_2241784\n3_1_0_2297159\n3_1_0_2297230\n3_1_0_2297219\n3_1_0_2297152\n3_2_0_2302545\n3_2_0_2302580\n3_2_0_2302586\n3_2_0_2302603\n3_3_0_2307811\n3_3_0_2308091\n3_3_0_2307903\n3_3_0_2307936\n3_4_0_2313372\n3_4_0_2313248\n3_4_0_2313306\n3_5_0_2318646\n3_5_0_2318650\n3_5_0_2318632\n3_5_0_2318572\n3_6_0_2323709\n3_6_0_2323685\n3_6_0_2323632\n3_7_0_2329127\n3_7_0_2328937\n3_7_0_2329038\n3_8_1_2334321\n3_8_1_2334476\n3_8_1_2334477\n3_8_1_2334283\n3_8_1_2334354\n3_9_1_2339290\n3_9_1_2339332\n3_9_1_2339287\n3_9_1_2339347\n3_10_1_2344265\n3_10_1_2344326\n3_11_1_2349951\n3_11_1_2349975\n4_1_0_2387983\n4_1_0_2388033\n4_1_0_2388013\n4_1_0_2388030\n4_2_0_2392592\n4_2_0_2392612\n4_2_0_2392600\n4_2_0_2393775\n4_2_0_2392625\n4_3_0_2397642\n4_3_0_2397627\n4_3_0_2397645\n4_3_0_2398148\n4_4_0_2402585\n4_4_0_2402594\n4_4_0_2402586\n4_5_0_2407485\n4_5_0_2407484\n4_5_0_2407507\n4_5_0_2407439\n4_6_0_2412022\n4_6_0_2412031\n4_6_0_2411984\n4_6_0_2412010\n4_7_0_2416376\n4_7_0_2416853\n4_7_0_2416420\n4_7_0_2416417\n4_8_1_2420874\n4_8_1_2420952\n4_8_1_2420876\n4_8_1_2420912\n4_9_1_2425252\n4_9_1_2425264\n4_9_1_2425313\n4_9_1_2425336\n4_9_1_2425314\n4_10_1_2429504\n4_10_1_2429546\n4_11_1_2433108\n4_11_1_2433144\n5_1_0_2469306\n5_1_0_2469317\n5_1_0_2469291\n5_1_0_2469316\n5_2_0_2474102\n5_2_0_2474112\n5_2_0_2474077\n5_2_0_2474104\n5_3_0_2479585\n5_3_0_2479570\n5_3_0_2479614\n5_3_0_2479551\n5_4_0_2490050\n5_4_0_2484733\n5_4_0_2484703\n5_4_0_2484752\n5_5_0_2490034\n5_5_0_2489839\n5_5_0_2489850\n5_6_0_2495425\n5_6_0_2495448\n5_6_0_2495444\n5_6_0_2495453\n5_7_0_2501965\n5_7_0_2502020\n5_7_0_2502052\n5_7_0_2501957\n5_8_1_2508870\n5_8_1_2508963\n5_8_1_2508919\n5_8_1_2508934\n5_9_1_2516247\n5_9_1_2516263\n5_9_1_2516159\n5_9_1_2516219\n5_10_1_2524795\n5_10_1_2524843\n5_11_1_2530788\n5_11_1_2530820\n6_1_0_2589407\n6_1_0_2589302\n6_1_0_2589331\n6_1_0_2589184\n6_2_0_2597840\n6_2_0_2597683\n6_2_0_2597634\n6_2_0_2597672\n6_3_0_2606038\n6_3_0_2606040\n6_3_0_2606053\n6_4_0_2613924\n6_4_0_2614079\n6_4_0_2614136\n6_5_0_2622648\n6_5_0_2622573\n6_5_0_2628836\n6_6_0_2630607\n6_6_0_2630569\n6_6_0_2630623\n6_7_0_2638614\n6_7_0_2638512\n6_7_0_2638578\n6_8_1_2645812\n6_8_1_2645935\n6_8_1_2645803\n6_8_1_2645951\n6_9_1_2653145\n6_9_1_2653162\n6_9_1_2653137\n6_9_1_2653164\n6_10_1_2659899\n6_10_1_2659927\n6_11_1_2666644\n6_11_1_2666692\n6_11_1_2666743\n7_1_0_2701293\n7_1_0_2701176\n7_1_0_2701199\n7_1_0_2701227\n7_2_0_2707694\n7_2_0_2707647\n7_2_0_2707648\n7_2_0_2707660\n7_3_0_2714592\n7_3_0_2714640\n7_3_0_2714525\n7_4_0_2721809\n7_4_0_2721845\n7_4_0_2721859\n7_5_0_2729315\n7_5_0_2729393\n7_5_0_2729281\n7_6_0_2736447\n7_6_0_2736432\n7_6_0_2736409\n7_7_0_2745847\n7_7_0_2745918\n7_7_0_2745960\n7_8_1_2752896\n7_8_1_2753082\n7_8_1_2752886\n7_8_1_2753038\n7_9_1_2759691\n7_9_1_2759835\n7_9_1_2759909\n7_9_1_2759763\n7_9_1_2759779\n7_10_1_2766220\n7_10_1_2766233\n7_11_1_2772525\n7_11_1_2772607\n7_11_1_2772615\n"
     ]
    }
   ],
   "source": [
    "for _, log_data in data.iterrows():\n",
    "    filename = f\"logs/{log_data.season}_{log_data.week}_{int(log_data.playoff)}_{log_data.logs}.log\"\n",
    "    if not os.path.exists(filename):\n",
    "        print(filename)"
   ]
  },
  {
   "cell_type": "code",
   "execution_count": 60,
   "metadata": {},
   "outputs": [
    {
     "output_type": "execute_result",
     "data": {
      "text/plain": [
       "0"
      ]
     },
     "metadata": {},
     "execution_count": 60
    }
   ],
   "source": []
  },
  {
   "cell_type": "code",
   "execution_count": 67,
   "metadata": {},
   "outputs": [],
   "source": [
    "import requests"
   ]
  },
  {
   "cell_type": "code",
   "execution_count": 80,
   "metadata": {},
   "outputs": [],
   "source": [
    "log_json = requests.get(\"http://logs.tf/json/2416376\")\n",
    "logs_json"
   ]
  },
  {
   "cell_type": "code",
   "execution_count": null,
   "metadata": {},
   "outputs": [],
   "source": []
  }
 ],
 "metadata": {
  "kernelspec": {
   "display_name": "Python 3",
   "language": "python",
   "name": "python3"
  },
  "language_info": {
   "codemirror_mode": {
    "name": "ipython",
    "version": 3
   },
   "file_extension": ".py",
   "mimetype": "text/x-python",
   "name": "python",
   "nbconvert_exporter": "python",
   "pygments_lexer": "ipython3",
   "version": "3.8.5-final"
  }
 },
 "nbformat": 4,
 "nbformat_minor": 4
}