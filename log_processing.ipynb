{
 "metadata": {
  "language_info": {
   "codemirror_mode": {
    "name": "ipython",
    "version": 3
   },
   "file_extension": ".py",
   "mimetype": "text/x-python",
   "name": "python",
   "nbconvert_exporter": "python",
   "pygments_lexer": "ipython3",
   "version": "3.8.5-final"
  },
  "orig_nbformat": 2,
  "kernelspec": {
   "name": "python3",
   "display_name": "Python 3",
   "language": "python"
  }
 },
 "nbformat": 4,
 "nbformat_minor": 2,
 "cells": [
  {
   "cell_type": "code",
   "execution_count": 2,
   "metadata": {},
   "outputs": [],
   "source": [
    "%load_ext autoreload\n",
    "%autoreload 2"
   ]
  },
  {
   "cell_type": "code",
   "execution_count": 3,
   "metadata": {},
   "outputs": [],
   "source": [
    "from utilities.match_directory import collect_matches\n",
    "from utilities.logs_tf import get_log, Log\n",
    "\n",
    "import logging\n",
    "\n",
    "logging.basicConfig(format='%(asctime)s %(message)s',\n",
    "                datefmt='%m/%d/%Y %I:%M:%S %p',\n",
    "                filename='logs.log',\n",
    "                filemode='w',\n",
    "                level=logging.INFO)"
   ]
  },
  {
   "cell_type": "code",
   "execution_count": 4,
   "metadata": {},
   "outputs": [],
   "source": [
    "matches = collect_matches(\"match_directory\")"
   ]
  },
  {
   "cell_type": "code",
   "execution_count": 5,
   "metadata": {},
   "outputs": [],
   "source": [
    "from collections import defaultdict\n",
    "\n",
    "scorch_count = defaultdict(lambda: 0)\n",
    "\n",
    "for index, match in matches.iterrows():\n",
    "    log = get_log(match.logs)\n",
    "    for steamid, player in log.players.items():\n",
    "        for class_stat in player.class_stats:\n",
    "            if \"scorch_shot\" in class_stat.weapon:\n",
    "                scorch_count[match.season] += 1"
   ]
  },
  {
   "cell_type": "code",
   "execution_count": 7,
   "metadata": {},
   "outputs": [
    {
     "output_type": "stream",
     "name": "stdout",
     "text": [
      "Scorch usage counts for season 1: 9\nScorch usage counts for season 2: 30\nScorch usage counts for season 3: 21\nScorch usage counts for season 4: 31\nScorch usage counts for season 5: 37\nScorch usage counts for season 6: 49\nScorch usage counts for season 7: 63\n"
     ]
    }
   ],
   "source": [
    "for season, sc in scorch_count.items():\n",
    "    print(f\"Scorch usage counts for season {season}: {sc}\")"
   ]
  }
 ]
}